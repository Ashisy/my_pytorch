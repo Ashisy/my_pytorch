{
 "cells": [
  {
   "cell_type": "markdown",
   "metadata": {},
   "source": [
    "# An Simply Implementation to PyTorch "
   ]
  },
  {
   "cell_type": "markdown",
   "metadata": {},
   "source": [
    "That's is an implementation of a simple neural network to solve a binary classification problem( numpy vs pytorch)"
   ]
  },
  {
   "cell_type": "code",
   "execution_count": 19,
   "metadata": {},
   "outputs": [
    {
     "name": "stdout",
     "output_type": "stream",
     "text": [
      "actual :\n",
      " [[1]\n",
      " [1]\n",
      " [0]] \n",
      "\n",
      "predicted :\n",
      " [[0.98188258]\n",
      " [0.97404848]\n",
      " [0.03525875]]\n"
     ]
    }
   ],
   "source": [
    "## Neural network in numpy\n",
    "\n",
    "import numpy as np\n",
    "\n",
    "#Input array\n",
    "X=np.array([[1,0,1,0],[1,0,1,1],[0,1,0,1]])\n",
    "\n",
    "#Output\n",
    "y=np.array([[1],[1],[0]])\n",
    "\n",
    "#Sigmoid Function\n",
    "def sigmoid (x):\n",
    " return 1/(1 + np.exp(-x))\n",
    "\n",
    "#Derivative of Sigmoid Function\n",
    "def derivatives_sigmoid(x):\n",
    " return x * (1 - x)\n",
    "\n",
    "#Variable initialization\n",
    "epoch=5000 #Setting training iterations\n",
    "lr=0.1 #Setting learning rate\n",
    "inputlayer_neurons = X.shape[1] #number of features in data set\n",
    "hiddenlayer_neurons = 3 #number of hidden layers neurons\n",
    "output_neurons = 1 #number of neurons at output layer\n",
    "\n",
    "#weight and bias initialization\n",
    "wh=np.random.uniform(size=(inputlayer_neurons,hiddenlayer_neurons))\n",
    "bh=np.random.uniform(size=(1,hiddenlayer_neurons))\n",
    "wout=np.random.uniform(size=(hiddenlayer_neurons,output_neurons))\n",
    "bout=np.random.uniform(size=(1,output_neurons))\n",
    "\n",
    "for i in range(epoch):\n",
    "  #Forward Propogation\n",
    "  hidden_layer_input1=np.dot(X,wh)\n",
    "  hidden_layer_input=hidden_layer_input1 + bh\n",
    "  hiddenlayer_activations = sigmoid(hidden_layer_input)\n",
    "  output_layer_input1=np.dot(hiddenlayer_activations,wout)\n",
    "  output_layer_input= output_layer_input1+ bout\n",
    "  output = sigmoid(output_layer_input)\n",
    "\n",
    "  #Backpropagation\n",
    "  E = y-output\n",
    "  slope_output_layer = derivatives_sigmoid(output)\n",
    "  slope_hidden_layer = derivatives_sigmoid(hiddenlayer_activations)\n",
    "  d_output = E * slope_output_layer\n",
    "  Error_at_hidden_layer = d_output.dot(wout.T)\n",
    "  d_hiddenlayer = Error_at_hidden_layer * slope_hidden_layer\n",
    "  wout += hiddenlayer_activations.T.dot(d_output) *lr\n",
    "  bout += np.sum(d_output, axis=0,keepdims=True) *lr\n",
    "  wh += X.T.dot(d_hiddenlayer) *lr\n",
    "  bh += np.sum(d_hiddenlayer, axis=0,keepdims=True) *lr\n",
    "\n",
    "print('actual :\\n', y, '\\n')\n",
    "print('predicted :\\n', output)"
   ]
  },
  {
   "cell_type": "markdown",
   "metadata": {},
   "source": [
    "Now, try to spot the difference in a super simple implementation of the same in PyTorch "
   ]
  },
  {
   "cell_type": "code",
   "execution_count": 20,
   "metadata": {},
   "outputs": [
    {
     "name": "stdout",
     "output_type": "stream",
     "text": [
      "actual :\n",
      " tensor([[1.],\n",
      "        [1.],\n",
      "        [0.]]) \n",
      "\n",
      "predicted :\n",
      " tensor([[0.9802],\n",
      "        [0.9715],\n",
      "        [0.0360]])\n"
     ]
    }
   ],
   "source": [
    "## neural network in pytorch\n",
    "import torch\n",
    "\n",
    "#Input array\n",
    "X = torch.Tensor([[1,0,1,0],[1,0,1,1],[0,1,0,1]])\n",
    "\n",
    "#Output\n",
    "y = torch.Tensor([[1],[1],[0]])\n",
    "\n",
    "#Sigmoid Function\n",
    "def sigmoid (x):\n",
    "  return 1/(1 + torch.exp(-x))\n",
    "\n",
    "#Derivative of Sigmoid Function\n",
    "def derivatives_sigmoid(x):\n",
    "  return x * (1 - x)\n",
    "\n",
    "#Variable initialization\n",
    "epoch=5000 #Setting training iterations\n",
    "lr=0.1 #Setting learning rate\n",
    "inputlayer_neurons = X.shape[1] #number of features in data set\n",
    "hiddenlayer_neurons = 3 #number of hidden layers neurons\n",
    "output_neurons = 1 #number of neurons at output layer\n",
    "\n",
    "#weight and bias initialization\n",
    "wh=torch.randn(inputlayer_neurons, hiddenlayer_neurons).type(torch.FloatTensor)\n",
    "bh=torch.randn(1, hiddenlayer_neurons).type(torch.FloatTensor)\n",
    "wout=torch.randn(hiddenlayer_neurons, output_neurons)\n",
    "bout=torch.randn(1, output_neurons)\n",
    "\n",
    "for i in range(epoch):\n",
    "\n",
    "  #Forward Propogation\n",
    "  hidden_layer_input1 = torch.mm(X, wh)\n",
    "  hidden_layer_input = hidden_layer_input1 + bh\n",
    "  hidden_layer_activations = sigmoid(hidden_layer_input)\n",
    " \n",
    "  output_layer_input1 = torch.mm(hidden_layer_activations, wout)\n",
    "  output_layer_input = output_layer_input1 + bout\n",
    "  output = sigmoid(output_layer_input1)\n",
    "\n",
    "  #Backpropagation\n",
    "  E = y-output\n",
    "  slope_output_layer = derivatives_sigmoid(output)\n",
    "  slope_hidden_layer = derivatives_sigmoid(hidden_layer_activations)\n",
    "  d_output = E * slope_output_layer\n",
    "  Error_at_hidden_layer = torch.mm(d_output, wout.t())\n",
    "  d_hiddenlayer = Error_at_hidden_layer * slope_hidden_layer\n",
    "  wout += torch.mm(hidden_layer_activations.t(), d_output) *lr\n",
    "  bout += d_output.sum() *lr\n",
    "  wh += torch.mm(X.t(), d_hiddenlayer) *lr\n",
    "  bh += d_output.sum() *lr\n",
    " \n",
    "print('actual :\\n', y, '\\n')\n",
    "print('predicted :\\n', output)"
   ]
  }
 ],
 "metadata": {
  "kernelspec": {
   "display_name": "Python 3",
   "language": "python",
   "name": "python3"
  },
  "language_info": {
   "codemirror_mode": {
    "name": "ipython",
    "version": 3
   },
   "file_extension": ".py",
   "mimetype": "text/x-python",
   "name": "python",
   "nbconvert_exporter": "python",
   "pygments_lexer": "ipython3",
   "version": "3.8.5"
  }
 },
 "nbformat": 4,
 "nbformat_minor": 4
}
